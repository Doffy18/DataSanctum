{
 "cells": [
  {
   "cell_type": "code",
   "execution_count": 1,
   "id": "a8324511",
   "metadata": {
    "_cell_guid": "b1076dfc-b9ad-4769-8c92-a6c4dae69d19",
    "_uuid": "8f2839f25d086af736a60e9eeb907d3b93b6e0e5",
    "execution": {
     "iopub.execute_input": "2024-07-04T19:02:00.450315Z",
     "iopub.status.busy": "2024-07-04T19:02:00.449277Z",
     "iopub.status.idle": "2024-07-04T19:02:02.370111Z",
     "shell.execute_reply": "2024-07-04T19:02:02.369147Z"
    },
    "papermill": {
     "duration": 1.931724,
     "end_time": "2024-07-04T19:02:02.373090",
     "exception": false,
     "start_time": "2024-07-04T19:02:00.441366",
     "status": "completed"
    },
    "tags": []
   },
   "outputs": [],
   "source": [
    "import pandas as pd\n",
    "import numpy as np\n",
    "import matplotlib.pyplot as plt\n",
    "import seaborn as sns\n",
    "df = pd.read_csv('/kaggle/input/mall-customers/Mall_Customers.csv')"
   ]
  },
  {
   "cell_type": "code",
   "execution_count": 2,
   "id": "0eabafff",
   "metadata": {
    "execution": {
     "iopub.execute_input": "2024-07-04T19:02:02.388213Z",
     "iopub.status.busy": "2024-07-04T19:02:02.387840Z",
     "iopub.status.idle": "2024-07-04T19:02:02.409264Z",
     "shell.execute_reply": "2024-07-04T19:02:02.408257Z"
    },
    "papermill": {
     "duration": 0.031026,
     "end_time": "2024-07-04T19:02:02.411602",
     "exception": false,
     "start_time": "2024-07-04T19:02:02.380576",
     "status": "completed"
    },
    "tags": []
   },
   "outputs": [
    {
     "data": {
      "text/html": [
       "<div>\n",
       "<style scoped>\n",
       "    .dataframe tbody tr th:only-of-type {\n",
       "        vertical-align: middle;\n",
       "    }\n",
       "\n",
       "    .dataframe tbody tr th {\n",
       "        vertical-align: top;\n",
       "    }\n",
       "\n",
       "    .dataframe thead th {\n",
       "        text-align: right;\n",
       "    }\n",
       "</style>\n",
       "<table border=\"1\" class=\"dataframe\">\n",
       "  <thead>\n",
       "    <tr style=\"text-align: right;\">\n",
       "      <th></th>\n",
       "      <th>CustomerID</th>\n",
       "      <th>Genre</th>\n",
       "      <th>Age</th>\n",
       "      <th>Annual Income (k$)</th>\n",
       "      <th>Spending Score (1-100)</th>\n",
       "    </tr>\n",
       "  </thead>\n",
       "  <tbody>\n",
       "    <tr>\n",
       "      <th>0</th>\n",
       "      <td>1</td>\n",
       "      <td>Male</td>\n",
       "      <td>19</td>\n",
       "      <td>15</td>\n",
       "      <td>39</td>\n",
       "    </tr>\n",
       "    <tr>\n",
       "      <th>1</th>\n",
       "      <td>2</td>\n",
       "      <td>Male</td>\n",
       "      <td>21</td>\n",
       "      <td>15</td>\n",
       "      <td>81</td>\n",
       "    </tr>\n",
       "    <tr>\n",
       "      <th>2</th>\n",
       "      <td>3</td>\n",
       "      <td>Female</td>\n",
       "      <td>20</td>\n",
       "      <td>16</td>\n",
       "      <td>6</td>\n",
       "    </tr>\n",
       "    <tr>\n",
       "      <th>3</th>\n",
       "      <td>4</td>\n",
       "      <td>Female</td>\n",
       "      <td>23</td>\n",
       "      <td>16</td>\n",
       "      <td>77</td>\n",
       "    </tr>\n",
       "    <tr>\n",
       "      <th>4</th>\n",
       "      <td>5</td>\n",
       "      <td>Female</td>\n",
       "      <td>31</td>\n",
       "      <td>17</td>\n",
       "      <td>40</td>\n",
       "    </tr>\n",
       "  </tbody>\n",
       "</table>\n",
       "</div>"
      ],
      "text/plain": [
       "   CustomerID   Genre  Age  Annual Income (k$)  Spending Score (1-100)\n",
       "0           1    Male   19                  15                      39\n",
       "1           2    Male   21                  15                      81\n",
       "2           3  Female   20                  16                       6\n",
       "3           4  Female   23                  16                      77\n",
       "4           5  Female   31                  17                      40"
      ]
     },
     "execution_count": 2,
     "metadata": {},
     "output_type": "execute_result"
    }
   ],
   "source": [
    "df.head()"
   ]
  },
  {
   "cell_type": "code",
   "execution_count": 3,
   "id": "54c43f24",
   "metadata": {
    "execution": {
     "iopub.execute_input": "2024-07-04T19:02:02.424064Z",
     "iopub.status.busy": "2024-07-04T19:02:02.423740Z",
     "iopub.status.idle": "2024-07-04T19:02:02.429718Z",
     "shell.execute_reply": "2024-07-04T19:02:02.428772Z"
    },
    "papermill": {
     "duration": 0.014721,
     "end_time": "2024-07-04T19:02:02.431893",
     "exception": false,
     "start_time": "2024-07-04T19:02:02.417172",
     "status": "completed"
    },
    "tags": []
   },
   "outputs": [
    {
     "data": {
      "text/plain": [
       "(200, 5)"
      ]
     },
     "execution_count": 3,
     "metadata": {},
     "output_type": "execute_result"
    }
   ],
   "source": [
    "df.shape"
   ]
  },
  {
   "cell_type": "code",
   "execution_count": 4,
   "id": "57c88cb4",
   "metadata": {
    "execution": {
     "iopub.execute_input": "2024-07-04T19:02:02.444558Z",
     "iopub.status.busy": "2024-07-04T19:02:02.444224Z",
     "iopub.status.idle": "2024-07-04T19:02:02.454141Z",
     "shell.execute_reply": "2024-07-04T19:02:02.453038Z"
    },
    "papermill": {
     "duration": 0.018888,
     "end_time": "2024-07-04T19:02:02.456347",
     "exception": false,
     "start_time": "2024-07-04T19:02:02.437459",
     "status": "completed"
    },
    "tags": []
   },
   "outputs": [
    {
     "data": {
      "text/plain": [
       "CustomerID                0\n",
       "Genre                     0\n",
       "Age                       0\n",
       "Annual Income (k$)        0\n",
       "Spending Score (1-100)    0\n",
       "dtype: int64"
      ]
     },
     "execution_count": 4,
     "metadata": {},
     "output_type": "execute_result"
    }
   ],
   "source": [
    "df.isnull().sum()"
   ]
  },
  {
   "cell_type": "code",
   "execution_count": 5,
   "id": "011c4479",
   "metadata": {
    "execution": {
     "iopub.execute_input": "2024-07-04T19:02:02.470405Z",
     "iopub.status.busy": "2024-07-04T19:02:02.470018Z",
     "iopub.status.idle": "2024-07-04T19:02:02.481608Z",
     "shell.execute_reply": "2024-07-04T19:02:02.480607Z"
    },
    "papermill": {
     "duration": 0.021455,
     "end_time": "2024-07-04T19:02:02.483839",
     "exception": false,
     "start_time": "2024-07-04T19:02:02.462384",
     "status": "completed"
    },
    "tags": []
   },
   "outputs": [
    {
     "data": {
      "text/plain": [
       "0"
      ]
     },
     "execution_count": 5,
     "metadata": {},
     "output_type": "execute_result"
    }
   ],
   "source": [
    "df.duplicated().sum()"
   ]
  },
  {
   "cell_type": "code",
   "execution_count": 6,
   "id": "2985533e",
   "metadata": {
    "execution": {
     "iopub.execute_input": "2024-07-04T19:02:02.498161Z",
     "iopub.status.busy": "2024-07-04T19:02:02.497763Z",
     "iopub.status.idle": "2024-07-04T19:02:02.506337Z",
     "shell.execute_reply": "2024-07-04T19:02:02.505254Z"
    },
    "papermill": {
     "duration": 0.018474,
     "end_time": "2024-07-04T19:02:02.508729",
     "exception": false,
     "start_time": "2024-07-04T19:02:02.490255",
     "status": "completed"
    },
    "tags": []
   },
   "outputs": [],
   "source": [
    "X = df.iloc[:, [3,4]].values"
   ]
  },
  {
   "cell_type": "markdown",
   "id": "b71a24a2",
   "metadata": {
    "papermill": {
     "duration": 0.005999,
     "end_time": "2024-07-04T19:02:02.521195",
     "exception": false,
     "start_time": "2024-07-04T19:02:02.515196",
     "status": "completed"
    },
    "tags": []
   },
   "source": [
    "we going to use elbow method."
   ]
  },
  {
   "cell_type": "markdown",
   "id": "bf924842",
   "metadata": {
    "papermill": {
     "duration": 0.005833,
     "end_time": "2024-07-04T19:02:02.532719",
     "exception": false,
     "start_time": "2024-07-04T19:02:02.526886",
     "status": "completed"
    },
    "tags": []
   },
   "source": [
    "wcss- within cluster sum of square"
   ]
  },
  {
   "cell_type": "code",
   "execution_count": 7,
   "id": "9fe42216",
   "metadata": {
    "execution": {
     "iopub.execute_input": "2024-07-04T19:02:02.545965Z",
     "iopub.status.busy": "2024-07-04T19:02:02.545615Z",
     "iopub.status.idle": "2024-07-04T19:02:03.066327Z",
     "shell.execute_reply": "2024-07-04T19:02:03.065407Z"
    },
    "papermill": {
     "duration": 0.530543,
     "end_time": "2024-07-04T19:02:03.068954",
     "exception": false,
     "start_time": "2024-07-04T19:02:02.538411",
     "status": "completed"
    },
    "tags": []
   },
   "outputs": [],
   "source": [
    "from sklearn.cluster import KMeans\n",
    "wcss=[]"
   ]
  },
  {
   "cell_type": "markdown",
   "id": "b4a71bed",
   "metadata": {
    "papermill": {
     "duration": 0.006011,
     "end_time": "2024-07-04T19:02:03.081487",
     "exception": false,
     "start_time": "2024-07-04T19:02:03.075476",
     "status": "completed"
    },
    "tags": []
   },
   "source": [
    " Determining Optimal Clusters (Elbow Method):\n",
    "What We're Doing: We're trying to figure out how many clusters (groups) we should split our data into.\n",
    "How We Do It:\n",
    "We run KMeans clustering for 1 cluster, 2 clusters, 3 clusters, and so on, up to 10 clusters.\n",
    "For each number of clusters, we calculate something called WCSS, which tells us how well the points are clustered.\n",
    "We store these WCSS values in a list.\n",
    "2. Fitting the Final Model:\n",
    "What We're Doing: After finding the best number of clusters, we create a KMeans model with that number of clusters.\n",
    "How We Do It:\n",
    "We choose the optimal number of clusters based on where the WCSS graph has an \"elbow\" (a point where the WCSS starts decreasing more slowly).\n",
    "We fit the KMeans model to our data with this optimal number of clusters.\n",
    "The model then predicts which cluster each data point belongs to.\n",
    "\n",
    "\n",
    "magine you have a dataset with points spread out in a 2D space:\n",
    "\n",
    "If you have only one cluster, all points are in the same group, and WCSS will be high because points far from the centroid contribute large squared distances.\n",
    "If you increase the number of clusters, points get closer to their respective centroids, reducing WCSS.\n",
    "At some point, increasing the number of clusters further won't significantly decrease WCSS, indicating the optimal number of clusters."
   ]
  },
  {
   "cell_type": "code",
   "execution_count": 8,
   "id": "9cee34ec",
   "metadata": {
    "execution": {
     "iopub.execute_input": "2024-07-04T19:02:03.095943Z",
     "iopub.status.busy": "2024-07-04T19:02:03.095578Z",
     "iopub.status.idle": "2024-07-04T19:02:03.361988Z",
     "shell.execute_reply": "2024-07-04T19:02:03.361073Z"
    },
    "papermill": {
     "duration": 0.276715,
     "end_time": "2024-07-04T19:02:03.364547",
     "exception": false,
     "start_time": "2024-07-04T19:02:03.087832",
     "status": "completed"
    },
    "tags": []
   },
   "outputs": [
    {
     "name": "stderr",
     "output_type": "stream",
     "text": [
      "/opt/conda/lib/python3.10/site-packages/sklearn/cluster/_kmeans.py:870: FutureWarning: The default value of `n_init` will change from 10 to 'auto' in 1.4. Set the value of `n_init` explicitly to suppress the warning\n",
      "  warnings.warn(\n",
      "/opt/conda/lib/python3.10/site-packages/sklearn/cluster/_kmeans.py:870: FutureWarning: The default value of `n_init` will change from 10 to 'auto' in 1.4. Set the value of `n_init` explicitly to suppress the warning\n",
      "  warnings.warn(\n",
      "/opt/conda/lib/python3.10/site-packages/sklearn/cluster/_kmeans.py:870: FutureWarning: The default value of `n_init` will change from 10 to 'auto' in 1.4. Set the value of `n_init` explicitly to suppress the warning\n",
      "  warnings.warn(\n",
      "/opt/conda/lib/python3.10/site-packages/sklearn/cluster/_kmeans.py:870: FutureWarning: The default value of `n_init` will change from 10 to 'auto' in 1.4. Set the value of `n_init` explicitly to suppress the warning\n",
      "  warnings.warn(\n",
      "/opt/conda/lib/python3.10/site-packages/sklearn/cluster/_kmeans.py:870: FutureWarning: The default value of `n_init` will change from 10 to 'auto' in 1.4. Set the value of `n_init` explicitly to suppress the warning\n",
      "  warnings.warn(\n",
      "/opt/conda/lib/python3.10/site-packages/sklearn/cluster/_kmeans.py:870: FutureWarning: The default value of `n_init` will change from 10 to 'auto' in 1.4. Set the value of `n_init` explicitly to suppress the warning\n",
      "  warnings.warn(\n",
      "/opt/conda/lib/python3.10/site-packages/sklearn/cluster/_kmeans.py:870: FutureWarning: The default value of `n_init` will change from 10 to 'auto' in 1.4. Set the value of `n_init` explicitly to suppress the warning\n",
      "  warnings.warn(\n",
      "/opt/conda/lib/python3.10/site-packages/sklearn/cluster/_kmeans.py:870: FutureWarning: The default value of `n_init` will change from 10 to 'auto' in 1.4. Set the value of `n_init` explicitly to suppress the warning\n",
      "  warnings.warn(\n",
      "/opt/conda/lib/python3.10/site-packages/sklearn/cluster/_kmeans.py:870: FutureWarning: The default value of `n_init` will change from 10 to 'auto' in 1.4. Set the value of `n_init` explicitly to suppress the warning\n",
      "  warnings.warn(\n",
      "/opt/conda/lib/python3.10/site-packages/sklearn/cluster/_kmeans.py:870: FutureWarning: The default value of `n_init` will change from 10 to 'auto' in 1.4. Set the value of `n_init` explicitly to suppress the warning\n",
      "  warnings.warn(\n"
     ]
    }
   ],
   "source": [
    "for i in range(1, 11):\n",
    "    kmeans = KMeans(n_clusters=i, init='k-means++', random_state=0)\n",
    "    kmeans.fit(X)\n",
    "    wcss.append(kmeans.inertia_)"
   ]
  },
  {
   "cell_type": "code",
   "execution_count": 9,
   "id": "bb75efb1",
   "metadata": {
    "execution": {
     "iopub.execute_input": "2024-07-04T19:02:03.382135Z",
     "iopub.status.busy": "2024-07-04T19:02:03.381670Z",
     "iopub.status.idle": "2024-07-04T19:02:03.665673Z",
     "shell.execute_reply": "2024-07-04T19:02:03.664570Z"
    },
    "papermill": {
     "duration": 0.295895,
     "end_time": "2024-07-04T19:02:03.668044",
     "exception": false,
     "start_time": "2024-07-04T19:02:03.372149",
     "status": "completed"
    },
    "tags": []
   },
   "outputs": [
    {
     "data": {
      "image/png": "[encoded data removed]",
      "text/plain": [
       "<Figure size 640x480 with 1 Axes>"
      ]
     },
     "metadata": {},
     "output_type": "display_data"
    }
   ],
   "source": [
    "plt.plot(range(1,11),wcss)\n",
    "plt.title('elbow method')\n",
    "plt.xlabel('no of cluster')\n",
    "plt.ylabel('wcss values')\n",
    "plt.show()"
   ]
  },
  {
   "cell_type": "markdown",
   "id": "093eae82",
   "metadata": {
    "papermill": {
     "duration": 0.006727,
     "end_time": "2024-07-04T19:02:03.682394",
     "exception": false,
     "start_time": "2024-07-04T19:02:03.675667",
     "status": "completed"
    },
    "tags": []
   },
   "source": [
    "optimal no of cluster are 5 since lboe formed at 5\n"
   ]
  },
  {
   "cell_type": "code",
   "execution_count": 10,
   "id": "cf29b925",
   "metadata": {
    "execution": {
     "iopub.execute_input": "2024-07-04T19:02:03.698377Z",
     "iopub.status.busy": "2024-07-04T19:02:03.697968Z",
     "iopub.status.idle": "2024-07-04T19:02:03.703311Z",
     "shell.execute_reply": "2024-07-04T19:02:03.702354Z"
    },
    "papermill": {
     "duration": 0.016144,
     "end_time": "2024-07-04T19:02:03.705427",
     "exception": false,
     "start_time": "2024-07-04T19:02:03.689283",
     "status": "completed"
    },
    "tags": []
   },
   "outputs": [],
   "source": [
    "kmeansmodel = KMeans(n_clusters=5,init='k-means++',random_state=0)"
   ]
  },
  {
   "cell_type": "code",
   "execution_count": 11,
   "id": "a71526b1",
   "metadata": {
    "execution": {
     "iopub.execute_input": "2024-07-04T19:02:03.721532Z",
     "iopub.status.busy": "2024-07-04T19:02:03.721149Z",
     "iopub.status.idle": "2024-07-04T19:02:03.747676Z",
     "shell.execute_reply": "2024-07-04T19:02:03.746702Z"
    },
    "papermill": {
     "duration": 0.037335,
     "end_time": "2024-07-04T19:02:03.750014",
     "exception": false,
     "start_time": "2024-07-04T19:02:03.712679",
     "status": "completed"
    },
    "tags": []
   },
   "outputs": [
    {
     "name": "stderr",
     "output_type": "stream",
     "text": [
      "/opt/conda/lib/python3.10/site-packages/sklearn/cluster/_kmeans.py:870: FutureWarning: The default value of `n_init` will change from 10 to 'auto' in 1.4. Set the value of `n_init` explicitly to suppress the warning\n",
      "  warnings.warn(\n"
     ]
    }
   ],
   "source": [
    "y_kmeans = kmeansmodel.fit_predict(X)"
   ]
  },
  {
   "cell_type": "code",
   "execution_count": 12,
   "id": "4f4899ec",
   "metadata": {
    "execution": {
     "iopub.execute_input": "2024-07-04T19:02:03.767988Z",
     "iopub.status.busy": "2024-07-04T19:02:03.767079Z",
     "iopub.status.idle": "2024-07-04T19:02:04.225358Z",
     "shell.execute_reply": "2024-07-04T19:02:04.224239Z"
    },
    "papermill": {
     "duration": 0.470435,
     "end_time": "2024-07-04T19:02:04.228787",
     "exception": false,
     "start_time": "2024-07-04T19:02:03.758352",
     "status": "completed"
    },
    "tags": []
   },
   "outputs": [
    {
     "data": {
      "image/png": "[encoded data removed]",
      "text/plain": [
       "<Figure size 640x480 with 1 Axes>"
      ]
     },
     "metadata": {},
     "output_type": "display_data"
    }
   ],
   "source": [
    "plt.scatter(X[y_kmeans==0,0], X[y_kmeans ==0,1],s=80,c='red',label='customer1')\n",
    "plt.scatter(X[y_kmeans==1,0], X[y_kmeans ==1,1],s=80,c='yellow',label='customer2')\n",
    "plt.scatter(X[y_kmeans==2,0], X[y_kmeans ==2,1],s=80,c='blue',label='customer3')\n",
    "plt.scatter(X[y_kmeans==3,0], X[y_kmeans ==3,1],s=80,c='cyan',label='customer4')\n",
    "plt.scatter(X[y_kmeans==4,0], X[y_kmeans ==4,1],s=80,c='black',label='customer5')\n",
    "plt.scatter(kmeans.cluster_centers_[:,0],kmeans.cluster_centers_[:,1],s=100,c='magenta',label='Centroids')\n",
    "plt.title('Cluster of cluster')\n",
    "plt.xlabel('Annual Income(k$)')\n",
    "plt.ylabel('spending score(1-100)')\n",
    "plt.legend()\n",
    "plt.show()"
   ]
  },
  {
   "cell_type": "markdown",
   "id": "39774b9a",
   "metadata": {
    "papermill": {
     "duration": 0.007814,
     "end_time": "2024-07-04T19:02:04.244790",
     "exception": false,
     "start_time": "2024-07-04T19:02:04.236976",
     "status": "completed"
    },
    "tags": []
   },
   "source": [
    "1.cyan cluster represents costmer having less salary bt spending is high.\n",
    "2.red with annaul slary is high bt spending is less.\n",
    "3.yellow cluster is the target  audience with balance in spending and earning also max ppl are in this cluster.\n",
    "\n"
   ]
  }
 ],
 "metadata": {
  "kaggle": {
   "accelerator": "none",
   "dataSources": [
    {
     "datasetId": 7721,
     "sourceId": 10938,
     "sourceType": "datasetVersion"
    }
   ],
   "dockerImageVersionId": 30732,
   "isGpuEnabled": false,
   "isInternetEnabled": false,
   "language": "python",
   "sourceType": "notebook"
  },
  "kernelspec": {
   "display_name": "Python 3",
   "language": "python",
   "name": "python3"
  },
  "language_info": {
   "codemirror_mode": {
    "name": "ipython",
    "version": 3
   },
   "file_extension": ".py",
   "mimetype": "text/x-python",
   "name": "python",
   "nbconvert_exporter": "python",
   "pygments_lexer": "ipython3",
   "version": "3.10.13"
  },
  "papermill": {
   "default_parameters": {},
   "duration": 7.187809,
   "end_time": "2024-07-04T19:02:04.874280",
   "environment_variables": {},
   "exception": null,
   "input_path": "__notebook__.ipynb",
   "output_path": "__notebook__.ipynb",
   "parameters": {},
   "start_time": "2024-07-04T19:01:57.686471",
   "version": "2.5.0"
  }
 },
 "nbformat": 4,
 "nbformat_minor": 5
}
