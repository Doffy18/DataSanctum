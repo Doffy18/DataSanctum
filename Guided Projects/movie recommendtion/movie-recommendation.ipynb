{
 "cells": [
  {
   "cell_type": "raw",
   "id": "8d7d4be0",
   "metadata": {
    "_cell_guid": "b1076dfc-b9ad-4769-8c92-a6c4dae69d19",
    "_uuid": "8f2839f25d086af736a60e9eeb907d3b93b6e0e5",
    "papermill": {
     "duration": 0.009441,
     "end_time": "2024-07-02T14:49:00.605532",
     "exception": false,
     "start_time": "2024-07-02T14:49:00.596091",
     "status": "completed"
    },
    "tags": []
   },
   "source": []
  },
  {
   "cell_type": "code",
   "execution_count": 1,
   "id": "528ba6a1",
   "metadata": {
    "execution": {
     "iopub.execute_input": "2024-07-02T14:49:00.625500Z",
     "iopub.status.busy": "2024-07-02T14:49:00.625095Z",
     "iopub.status.idle": "2024-07-02T14:49:02.324440Z",
     "shell.execute_reply": "2024-07-02T14:49:02.323355Z"
    },
    "papermill": {
     "duration": 1.712351,
     "end_time": "2024-07-02T14:49:02.327001",
     "exception": false,
     "start_time": "2024-07-02T14:49:00.614650",
     "status": "completed"
    },
    "tags": []
   },
   "outputs": [],
   "source": [
    "import pandas as pd\n",
    "credits = pd.read_csv('/kaggle/input/moviedata/tmdb_5000_credits.csv')\n",
    "movies = pd.read_csv('/kaggle/input/moviedata/tmdb_5000_movies.csv')"
   ]
  },
  {
   "cell_type": "code",
   "execution_count": 2,
   "id": "e51c532d",
   "metadata": {
    "execution": {
     "iopub.execute_input": "2024-07-02T14:49:02.347017Z",
     "iopub.status.busy": "2024-07-02T14:49:02.346656Z",
     "iopub.status.idle": "2024-07-02T14:49:02.376237Z",
     "shell.execute_reply": "2024-07-02T14:49:02.375251Z"
    },
    "papermill": {
     "duration": 0.042753,
     "end_time": "2024-07-02T14:49:02.378935",
     "exception": false,
     "start_time": "2024-07-02T14:49:02.336182",
     "status": "completed"
    },
    "tags": []
   },
   "outputs": [
    {
     "data": {
      "text/html": [
       "<div>\n",
       "<style scoped>\n",
       "    .dataframe tbody tr th:only-of-type {\n",
       "        vertical-align: middle;\n",
       "    }\n",
       "\n",
       "    .dataframe tbody tr th {\n",
       "        vertical-align: top;\n",
       "    }\n",
       "\n",
       "    .dataframe thead th {\n",
       "        text-align: right;\n",
       "    }\n",
       "</style>\n",
       "<table border=\"1\" class=\"dataframe\">\n",
       "  <thead>\n",
       "    <tr style=\"text-align: right;\">\n",
       "      <th></th>\n",
       "      <th>budget</th>\n",
       "      <th>genres</th>\n",
       "      <th>homepage</th>\n",
       "      <th>id</th>\n",
       "      <th>keywords</th>\n",
       "      <th>original_language</th>\n",
       "      <th>original_title</th>\n",
       "      <th>overview</th>\n",
       "      <th>popularity</th>\n",
       "      <th>production_companies</th>\n",
       "      <th>production_countries</th>\n",
       "      <th>release_date</th>\n",
       "      <th>revenue</th>\n",
       "      <th>runtime</th>\n",
       "      <th>spoken_languages</th>\n",
       "      <th>status</th>\n",
       "      <th>tagline</th>\n",
       "      <th>title</th>\n",
       "      <th>vote_average</th>\n",
       "      <th>vote_count</th>\n",
       "    </tr>\n",
       "  </thead>\n",
       "  <tbody>\n",
       "    <tr>\n",
       "      <th>0</th>\n",
       "      <td>237000000</td>\n",
       "      <td>[{\"id\": 28, \"name\": \"Action\"}, {\"id\": 12, \"nam...</td>\n",
       "      <td>http://www.avatarmovie.com/</td>\n",
       "      <td>19995</td>\n",
       "      <td>[{\"id\": 1463, \"name\": \"culture clash\"}, {\"id\":...</td>\n",
       "      <td>en</td>\n",
       "      <td>Avatar</td>\n",
       "      <td>In the 22nd century, a paraplegic Marine is di...</td>\n",
       "      <td>150.437577</td>\n",
       "      <td>[{\"name\": \"Ingenious Film Partners\", \"id\": 289...</td>\n",
       "      <td>[{\"iso_3166_1\": \"US\", \"name\": \"United States o...</td>\n",
       "      <td>2009-12-10</td>\n",
       "      <td>2787965087</td>\n",
       "      <td>162.0</td>\n",
       "      <td>[{\"iso_639_1\": \"en\", \"name\": \"English\"}, {\"iso...</td>\n",
       "      <td>Released</td>\n",
       "      <td>Enter the World of Pandora.</td>\n",
       "      <td>Avatar</td>\n",
       "      <td>7.2</td>\n",
       "      <td>11800</td>\n",
       "    </tr>\n",
       "    <tr>\n",
       "      <th>1</th>\n",
       "      <td>300000000</td>\n",
       "      <td>[{\"id\": 12, \"name\": \"Adventure\"}, {\"id\": 14, \"...</td>\n",
       "      <td>http://disney.go.com/disneypictures/pirates/</td>\n",
       "      <td>285</td>\n",
       "      <td>[{\"id\": 270, \"name\": \"ocean\"}, {\"id\": 726, \"na...</td>\n",
       "      <td>en</td>\n",
       "      <td>Pirates of the Caribbean: At World's End</td>\n",
       "      <td>Captain Barbossa, long believed to be dead, ha...</td>\n",
       "      <td>139.082615</td>\n",
       "      <td>[{\"name\": \"Walt Disney Pictures\", \"id\": 2}, {\"...</td>\n",
       "      <td>[{\"iso_3166_1\": \"US\", \"name\": \"United States o...</td>\n",
       "      <td>2007-05-19</td>\n",
       "      <td>961000000</td>\n",
       "      <td>169.0</td>\n",
       "      <td>[{\"iso_639_1\": \"en\", \"name\": \"English\"}]</td>\n",
       "      <td>Released</td>\n",
       "      <td>At the end of the world, the adventure begins.</td>\n",
       "      <td>Pirates of the Caribbean: At World's End</td>\n",
       "      <td>6.9</td>\n",
       "      <td>4500</td>\n",
       "    </tr>\n",
       "    <tr>\n",
       "      <th>2</th>\n",
       "      <td>245000000</td>\n",
       "      <td>[{\"id\": 28, \"name\": \"Action\"}, {\"id\": 12, \"nam...</td>\n",
       "      <td>http://www.sonypictures.com/movies/spectre/</td>\n",
       "      <td>206647</td>\n",
       "      <td>[{\"id\": 470, \"name\": \"spy\"}, {\"id\": 818, \"name...</td>\n",
       "      <td>en</td>\n",
       "      <td>Spectre</td>\n",
       "      <td>A cryptic message from Bond’s past sends him o...</td>\n",
       "      <td>107.376788</td>\n",
       "      <td>[{\"name\": \"Columbia Pictures\", \"id\": 5}, {\"nam...</td>\n",
       "      <td>[{\"iso_3166_1\": \"GB\", \"name\": \"United Kingdom\"...</td>\n",
       "      <td>2015-10-26</td>\n",
       "      <td>880674609</td>\n",
       "      <td>148.0</td>\n",
       "      <td>[{\"iso_639_1\": \"fr\", \"name\": \"Fran\\u00e7ais\"},...</td>\n",
       "      <td>Released</td>\n",
       "      <td>A Plan No One Escapes</td>\n",
       "      <td>Spectre</td>\n",
       "      <td>6.3</td>\n",
       "      <td>4466</td>\n",
       "    </tr>\n",
       "    <tr>\n",
       "      <th>3</th>\n",
       "      <td>250000000</td>\n",
       "      <td>[{\"id\": 28, \"name\": \"Action\"}, {\"id\": 80, \"nam...</td>\n",
       "      <td>http://www.thedarkknightrises.com/</td>\n",
       "      <td>49026</td>\n",
       "      <td>[{\"id\": 849, \"name\": \"dc comics\"}, {\"id\": 853,...</td>\n",
       "      <td>en</td>\n",
       "      <td>The Dark Knight Rises</td>\n",
       "      <td>Following the death of District Attorney Harve...</td>\n",
       "      <td>112.312950</td>\n",
       "      <td>[{\"name\": \"Legendary Pictures\", \"id\": 923}, {\"...</td>\n",
       "      <td>[{\"iso_3166_1\": \"US\", \"name\": \"United States o...</td>\n",
       "      <td>2012-07-16</td>\n",
       "      <td>1084939099</td>\n",
       "      <td>165.0</td>\n",
       "      <td>[{\"iso_639_1\": \"en\", \"name\": \"English\"}]</td>\n",
       "      <td>Released</td>\n",
       "      <td>The Legend Ends</td>\n",
       "      <td>The Dark Knight Rises</td>\n",
       "      <td>7.6</td>\n",
       "      <td>9106</td>\n",
       "    </tr>\n",
       "    <tr>\n",
       "      <th>4</th>\n",
       "      <td>260000000</td>\n",
       "      <td>[{\"id\": 28, \"name\": \"Action\"}, {\"id\": 12, \"nam...</td>\n",
       "      <td>http://movies.disney.com/john-carter</td>\n",
       "      <td>49529</td>\n",
       "      <td>[{\"id\": 818, \"name\": \"based on novel\"}, {\"id\":...</td>\n",
       "      <td>en</td>\n",
       "      <td>John Carter</td>\n",
       "      <td>John Carter is a war-weary, former military ca...</td>\n",
       "      <td>43.926995</td>\n",
       "      <td>[{\"name\": \"Walt Disney Pictures\", \"id\": 2}]</td>\n",
       "      <td>[{\"iso_3166_1\": \"US\", \"name\": \"United States o...</td>\n",
       "      <td>2012-03-07</td>\n",
       "      <td>284139100</td>\n",
       "      <td>132.0</td>\n",
       "      <td>[{\"iso_639_1\": \"en\", \"name\": \"English\"}]</td>\n",
       "      <td>Released</td>\n",
       "      <td>Lost in our world, found in another.</td>\n",
       "      <td>John Carter</td>\n",
       "      <td>6.1</td>\n",
       "      <td>2124</td>\n",
       "    </tr>\n",
       "  </tbody>\n",
       "</table>\n",
       "</div>"
      ],
      "text/plain": [
       "      budget                                             genres  \\\n",
       "0  237000000  [{\"id\": 28, \"name\": \"Action\"}, {\"id\": 12, \"nam...   \n",
       "1  300000000  [{\"id\": 12, \"name\": \"Adventure\"}, {\"id\": 14, \"...   \n",
       "2  245000000  [{\"id\": 28, \"name\": \"Action\"}, {\"id\": 12, \"nam...   \n",
       "3  250000000  [{\"id\": 28, \"name\": \"Action\"}, {\"id\": 80, \"nam...   \n",
       "4  260000000  [{\"id\": 28, \"name\": \"Action\"}, {\"id\": 12, \"nam...   \n",
       "\n",
       "                                       homepage      id  \\\n",
       "0                   http://www.avatarmovie.com/   19995   \n",
       "1  http://disney.go.com/disneypictures/pirates/     285   \n",
       "2   http://www.sonypictures.com/movies/spectre/  206647   \n",
       "3            http://www.thedarkknightrises.com/   49026   \n",
       "4          http://movies.disney.com/john-carter   49529   \n",
       "\n",
       "                                            keywords original_language  \\\n",
       "0  [{\"id\": 1463, \"name\": \"culture clash\"}, {\"id\":...                en   \n",
       "1  [{\"id\": 270, \"name\": \"ocean\"}, {\"id\": 726, \"na...                en   \n",
       "2  [{\"id\": 470, \"name\": \"spy\"}, {\"id\": 818, \"name...                en   \n",
       "3  [{\"id\": 849, \"name\": \"dc comics\"}, {\"id\": 853,...                en   \n",
       "4  [{\"id\": 818, \"name\": \"based on novel\"}, {\"id\":...                en   \n",
       "\n",
       "                             original_title  \\\n",
       "0                                    Avatar   \n",
       "1  Pirates of the Caribbean: At World's End   \n",
       "2                                   Spectre   \n",
       "3                     The Dark Knight Rises   \n",
       "4                               John Carter   \n",
       "\n",
       "                                            overview  popularity  \\\n",
       "0  In the 22nd century, a paraplegic Marine is di...  150.437577   \n",
       "1  Captain Barbossa, long believed to be dead, ha...  139.082615   \n",
       "2  A cryptic message from Bond’s past sends him o...  107.376788   \n",
       "3  Following the death of District Attorney Harve...  112.312950   \n",
       "4  John Carter is a war-weary, former military ca...   43.926995   \n",
       "\n",
       "                                production_companies  \\\n",
       "0  [{\"name\": \"Ingenious Film Partners\", \"id\": 289...   \n",
       "1  [{\"name\": \"Walt Disney Pictures\", \"id\": 2}, {\"...   \n",
       "2  [{\"name\": \"Columbia Pictures\", \"id\": 5}, {\"nam...   \n",
       "3  [{\"name\": \"Legendary Pictures\", \"id\": 923}, {\"...   \n",
       "4        [{\"name\": \"Walt Disney Pictures\", \"id\": 2}]   \n",
       "\n",
       "                                production_countries release_date     revenue  \\\n",
       "0  [{\"iso_3166_1\": \"US\", \"name\": \"United States o...   2009-12-10  2787965087   \n",
       "1  [{\"iso_3166_1\": \"US\", \"name\": \"United States o...   2007-05-19   961000000   \n",
       "2  [{\"iso_3166_1\": \"GB\", \"name\": \"United Kingdom\"...   2015-10-26   880674609   \n",
       "3  [{\"iso_3166_1\": \"US\", \"name\": \"United States o...   2012-07-16  1084939099   \n",
       "4  [{\"iso_3166_1\": \"US\", \"name\": \"United States o...   2012-03-07   284139100   \n",
       "\n",
       "   runtime                                   spoken_languages    status  \\\n",
       "0    162.0  [{\"iso_639_1\": \"en\", \"name\": \"English\"}, {\"iso...  Released   \n",
       "1    169.0           [{\"iso_639_1\": \"en\", \"name\": \"English\"}]  Released   \n",
       "2    148.0  [{\"iso_639_1\": \"fr\", \"name\": \"Fran\\u00e7ais\"},...  Released   \n",
       "3    165.0           [{\"iso_639_1\": \"en\", \"name\": \"English\"}]  Released   \n",
       "4    132.0           [{\"iso_639_1\": \"en\", \"name\": \"English\"}]  Released   \n",
       "\n",
       "                                          tagline  \\\n",
       "0                     Enter the World of Pandora.   \n",
       "1  At the end of the world, the adventure begins.   \n",
       "2                           A Plan No One Escapes   \n",
       "3                                 The Legend Ends   \n",
       "4            Lost in our world, found in another.   \n",
       "\n",
       "                                      title  vote_average  vote_count  \n",
       "0                                    Avatar           7.2       11800  \n",
       "1  Pirates of the Caribbean: At World's End           6.9        4500  \n",
       "2                                   Spectre           6.3        4466  \n",
       "3                     The Dark Knight Rises           7.6        9106  \n",
       "4                               John Carter           6.1        2124  "
      ]
     },
     "execution_count": 2,
     "metadata": {},
     "output_type": "execute_result"
    }
   ],
   "source": [
    "movies.head()"
   ]
  },
  {
   "cell_type": "code",
   "execution_count": 3,
   "id": "0daf950f",
   "metadata": {
    "execution": {
     "iopub.execute_input": "2024-07-02T14:49:02.400050Z",
     "iopub.status.busy": "2024-07-02T14:49:02.399132Z",
     "iopub.status.idle": "2024-07-02T14:49:02.406011Z",
     "shell.execute_reply": "2024-07-02T14:49:02.405072Z"
    },
    "papermill": {
     "duration": 0.019557,
     "end_time": "2024-07-02T14:49:02.408014",
     "exception": false,
     "start_time": "2024-07-02T14:49:02.388457",
     "status": "completed"
    },
    "tags": []
   },
   "outputs": [
    {
     "data": {
      "text/plain": [
       "array(['Avatar', \"Pirates of the Caribbean: At World's End\", 'Spectre',\n",
       "       'The Dark Knight Rises', 'John Carter'], dtype=object)"
      ]
     },
     "execution_count": 3,
     "metadata": {},
     "output_type": "execute_result"
    }
   ],
   "source": [
    "credits.head()['title'].values"
   ]
  },
  {
   "cell_type": "markdown",
   "id": "f1c06674",
   "metadata": {
    "papermill": {
     "duration": 0.009927,
     "end_time": "2024-07-02T14:49:02.427551",
     "exception": false,
     "start_time": "2024-07-02T14:49:02.417624",
     "status": "completed"
    },
    "tags": []
   },
   "source": [
    "since working with 2 datafram eis hectic, we will merge them.\n"
   ]
  },
  {
   "cell_type": "code",
   "execution_count": 4,
   "id": "bae2fe0d",
   "metadata": {
    "execution": {
     "iopub.execute_input": "2024-07-02T14:49:02.448812Z",
     "iopub.status.busy": "2024-07-02T14:49:02.447835Z",
     "iopub.status.idle": "2024-07-02T14:49:02.472566Z",
     "shell.execute_reply": "2024-07-02T14:49:02.471752Z"
    },
    "papermill": {
     "duration": 0.038018,
     "end_time": "2024-07-02T14:49:02.475075",
     "exception": false,
     "start_time": "2024-07-02T14:49:02.437057",
     "status": "completed"
    },
    "tags": []
   },
   "outputs": [],
   "source": [
    "movies = movies.merge(credits,on='title')"
   ]
  },
  {
   "cell_type": "code",
   "execution_count": 5,
   "id": "33fd226b",
   "metadata": {
    "execution": {
     "iopub.execute_input": "2024-07-02T14:49:02.496289Z",
     "iopub.status.busy": "2024-07-02T14:49:02.495911Z",
     "iopub.status.idle": "2024-07-02T14:49:02.517521Z",
     "shell.execute_reply": "2024-07-02T14:49:02.516403Z"
    },
    "papermill": {
     "duration": 0.034784,
     "end_time": "2024-07-02T14:49:02.519717",
     "exception": false,
     "start_time": "2024-07-02T14:49:02.484933",
     "status": "completed"
    },
    "tags": []
   },
   "outputs": [
    {
     "data": {
      "text/html": [
       "<div>\n",
       "<style scoped>\n",
       "    .dataframe tbody tr th:only-of-type {\n",
       "        vertical-align: middle;\n",
       "    }\n",
       "\n",
       "    .dataframe tbody tr th {\n",
       "        vertical-align: top;\n",
       "    }\n",
       "\n",
       "    .dataframe thead th {\n",
       "        text-align: right;\n",
       "    }\n",
       "</style>\n",
       "<table border=\"1\" class=\"dataframe\">\n",
       "  <thead>\n",
       "    <tr style=\"text-align: right;\">\n",
       "      <th></th>\n",
       "      <th>budget</th>\n",
       "      <th>genres</th>\n",
       "      <th>homepage</th>\n",
       "      <th>id</th>\n",
       "      <th>keywords</th>\n",
       "      <th>original_language</th>\n",
       "      <th>original_title</th>\n",
       "      <th>overview</th>\n",
       "      <th>popularity</th>\n",
       "      <th>production_companies</th>\n",
       "      <th>...</th>\n",
       "      <th>runtime</th>\n",
       "      <th>spoken_languages</th>\n",
       "      <th>status</th>\n",
       "      <th>tagline</th>\n",
       "      <th>title</th>\n",
       "      <th>vote_average</th>\n",
       "      <th>vote_count</th>\n",
       "      <th>movie_id</th>\n",
       "      <th>cast</th>\n",
       "      <th>crew</th>\n",
       "    </tr>\n",
       "  </thead>\n",
       "  <tbody>\n",
       "    <tr>\n",
       "      <th>0</th>\n",
       "      <td>237000000</td>\n",
       "      <td>[{\"id\": 28, \"name\": \"Action\"}, {\"id\": 12, \"nam...</td>\n",
       "      <td>http://www.avatarmovie.com/</td>\n",
       "      <td>19995</td>\n",
       "      <td>[{\"id\": 1463, \"name\": \"culture clash\"}, {\"id\":...</td>\n",
       "      <td>en</td>\n",
       "      <td>Avatar</td>\n",
       "      <td>In the 22nd century, a paraplegic Marine is di...</td>\n",
       "      <td>150.437577</td>\n",
       "      <td>[{\"name\": \"Ingenious Film Partners\", \"id\": 289...</td>\n",
       "      <td>...</td>\n",
       "      <td>162.0</td>\n",
       "      <td>[{\"iso_639_1\": \"en\", \"name\": \"English\"}, {\"iso...</td>\n",
       "      <td>Released</td>\n",
       "      <td>Enter the World of Pandora.</td>\n",
       "      <td>Avatar</td>\n",
       "      <td>7.2</td>\n",
       "      <td>11800</td>\n",
       "      <td>19995</td>\n",
       "      <td>[{\"cast_id\": 242, \"character\": \"Jake Sully\", \"...</td>\n",
       "      <td>[{\"credit_id\": \"52fe48009251416c750aca23\", \"de...</td>\n",
       "    </tr>\n",
       "  </tbody>\n",
       "</table>\n",
       "<p>1 rows × 23 columns</p>\n",
       "</div>"
      ],
      "text/plain": [
       "      budget                                             genres  \\\n",
       "0  237000000  [{\"id\": 28, \"name\": \"Action\"}, {\"id\": 12, \"nam...   \n",
       "\n",
       "                      homepage     id  \\\n",
       "0  http://www.avatarmovie.com/  19995   \n",
       "\n",
       "                                            keywords original_language  \\\n",
       "0  [{\"id\": 1463, \"name\": \"culture clash\"}, {\"id\":...                en   \n",
       "\n",
       "  original_title                                           overview  \\\n",
       "0         Avatar  In the 22nd century, a paraplegic Marine is di...   \n",
       "\n",
       "   popularity                               production_companies  ... runtime  \\\n",
       "0  150.437577  [{\"name\": \"Ingenious Film Partners\", \"id\": 289...  ...   162.0   \n",
       "\n",
       "                                    spoken_languages    status  \\\n",
       "0  [{\"iso_639_1\": \"en\", \"name\": \"English\"}, {\"iso...  Released   \n",
       "\n",
       "                       tagline   title vote_average vote_count movie_id  \\\n",
       "0  Enter the World of Pandora.  Avatar          7.2      11800    19995   \n",
       "\n",
       "                                                cast  \\\n",
       "0  [{\"cast_id\": 242, \"character\": \"Jake Sully\", \"...   \n",
       "\n",
       "                                                crew  \n",
       "0  [{\"credit_id\": \"52fe48009251416c750aca23\", \"de...  \n",
       "\n",
       "[1 rows x 23 columns]"
      ]
     },
     "execution_count": 5,
     "metadata": {},
     "output_type": "execute_result"
    }
   ],
   "source": [
    "movies.head(1)"
   ]
  },
  {
   "cell_type": "markdown",
   "id": "5ce82688",
   "metadata": {
    "papermill": {
     "duration": 0.010609,
     "end_time": "2024-07-02T14:49:02.540342",
     "exception": false,
     "start_time": "2024-07-02T14:49:02.529733",
     "status": "completed"
    },
    "tags": []
   },
   "source": [
    "we will remove some columns tht doesnt contribute to recommendation like budget,homepage,original language as most of them as of english,production_companies,production_countries,release_date,revenue,runtime,spoken_language,status,tagline,movie_id,vote_average,vote_count.\n"
   ]
  },
  {
   "cell_type": "code",
   "execution_count": 6,
   "id": "7288d014",
   "metadata": {
    "execution": {
     "iopub.execute_input": "2024-07-02T14:49:02.561887Z",
     "iopub.status.busy": "2024-07-02T14:49:02.561485Z",
     "iopub.status.idle": "2024-07-02T14:49:02.568160Z",
     "shell.execute_reply": "2024-07-02T14:49:02.567269Z"
    },
    "papermill": {
     "duration": 0.019722,
     "end_time": "2024-07-02T14:49:02.570175",
     "exception": false,
     "start_time": "2024-07-02T14:49:02.550453",
     "status": "completed"
    },
    "tags": []
   },
   "outputs": [],
   "source": [
    "movies = movies[['movie_id','title','overview','genres','keywords','cast','crew']]"
   ]
  },
  {
   "cell_type": "code",
   "execution_count": 7,
   "id": "b1dd6918",
   "metadata": {
    "execution": {
     "iopub.execute_input": "2024-07-02T14:49:02.591328Z",
     "iopub.status.busy": "2024-07-02T14:49:02.590954Z",
     "iopub.status.idle": "2024-07-02T14:49:02.602635Z",
     "shell.execute_reply": "2024-07-02T14:49:02.601665Z"
    },
    "papermill": {
     "duration": 0.02486,
     "end_time": "2024-07-02T14:49:02.604813",
     "exception": false,
     "start_time": "2024-07-02T14:49:02.579953",
     "status": "completed"
    },
    "tags": []
   },
   "outputs": [
    {
     "data": {
      "text/html": [
       "<div>\n",
       "<style scoped>\n",
       "    .dataframe tbody tr th:only-of-type {\n",
       "        vertical-align: middle;\n",
       "    }\n",
       "\n",
       "    .dataframe tbody tr th {\n",
       "        vertical-align: top;\n",
       "    }\n",
       "\n",
       "    .dataframe thead th {\n",
       "        text-align: right;\n",
       "    }\n",
       "</style>\n",
       "<table border=\"1\" class=\"dataframe\">\n",
       "  <thead>\n",
       "    <tr style=\"text-align: right;\">\n",
       "      <th></th>\n",
       "      <th>movie_id</th>\n",
       "      <th>title</th>\n",
       "      <th>overview</th>\n",
       "      <th>genres</th>\n",
       "      <th>keywords</th>\n",
       "      <th>cast</th>\n",
       "      <th>crew</th>\n",
       "    </tr>\n",
       "  </thead>\n",
       "  <tbody>\n",
       "    <tr>\n",
       "      <th>0</th>\n",
       "      <td>19995</td>\n",
       "      <td>Avatar</td>\n",
       "      <td>In the 22nd century, a paraplegic Marine is di...</td>\n",
       "      <td>[{\"id\": 28, \"name\": \"Action\"}, {\"id\": 12, \"nam...</td>\n",
       "      <td>[{\"id\": 1463, \"name\": \"culture clash\"}, {\"id\":...</td>\n",
       "      <td>[{\"cast_id\": 242, \"character\": \"Jake Sully\", \"...</td>\n",
       "      <td>[{\"credit_id\": \"52fe48009251416c750aca23\", \"de...</td>\n",
       "    </tr>\n",
       "  </tbody>\n",
       "</table>\n",
       "</div>"
      ],
      "text/plain": [
       "   movie_id   title                                           overview  \\\n",
       "0     19995  Avatar  In the 22nd century, a paraplegic Marine is di...   \n",
       "\n",
       "                                              genres  \\\n",
       "0  [{\"id\": 28, \"name\": \"Action\"}, {\"id\": 12, \"nam...   \n",
       "\n",
       "                                            keywords  \\\n",
       "0  [{\"id\": 1463, \"name\": \"culture clash\"}, {\"id\":...   \n",
       "\n",
       "                                                cast  \\\n",
       "0  [{\"cast_id\": 242, \"character\": \"Jake Sully\", \"...   \n",
       "\n",
       "                                                crew  \n",
       "0  [{\"credit_id\": \"52fe48009251416c750aca23\", \"de...  "
      ]
     },
     "execution_count": 7,
     "metadata": {},
     "output_type": "execute_result"
    }
   ],
   "source": [
    "movies.head(1)"
   ]
  },
  {
   "cell_type": "markdown",
   "id": "9a8e82f0",
   "metadata": {
    "papermill": {
     "duration": 0.009789,
     "end_time": "2024-07-02T14:49:02.624610",
     "exception": false,
     "start_time": "2024-07-02T14:49:02.614821",
     "status": "completed"
    },
    "tags": []
   },
   "source": [
    "now we do preprocesing"
   ]
  },
  {
   "cell_type": "code",
   "execution_count": 8,
   "id": "93e84fe4",
   "metadata": {
    "execution": {
     "iopub.execute_input": "2024-07-02T14:49:02.646060Z",
     "iopub.status.busy": "2024-07-02T14:49:02.645706Z",
     "iopub.status.idle": "2024-07-02T14:49:02.656930Z",
     "shell.execute_reply": "2024-07-02T14:49:02.655958Z"
    },
    "papermill": {
     "duration": 0.024609,
     "end_time": "2024-07-02T14:49:02.659042",
     "exception": false,
     "start_time": "2024-07-02T14:49:02.634433",
     "status": "completed"
    },
    "tags": []
   },
   "outputs": [
    {
     "data": {
      "text/plain": [
       "movie_id    0\n",
       "title       0\n",
       "overview    3\n",
       "genres      0\n",
       "keywords    0\n",
       "cast        0\n",
       "crew        0\n",
       "dtype: int64"
      ]
     },
     "execution_count": 8,
     "metadata": {},
     "output_type": "execute_result"
    }
   ],
   "source": [
    "movies.isnull().sum()"
   ]
  },
  {
   "cell_type": "code",
   "execution_count": 9,
   "id": "9cb577ac",
   "metadata": {
    "execution": {
     "iopub.execute_input": "2024-07-02T14:49:02.681405Z",
     "iopub.status.busy": "2024-07-02T14:49:02.680536Z",
     "iopub.status.idle": "2024-07-02T14:49:02.691930Z",
     "shell.execute_reply": "2024-07-02T14:49:02.691091Z"
    },
    "papermill": {
     "duration": 0.025109,
     "end_time": "2024-07-02T14:49:02.694300",
     "exception": false,
     "start_time": "2024-07-02T14:49:02.669191",
     "status": "completed"
    },
    "tags": []
   },
   "outputs": [],
   "source": [
    "movies.dropna(inplace=True)"
   ]
  },
  {
   "cell_type": "code",
   "execution_count": 10,
   "id": "74d22ed0",
   "metadata": {
    "execution": {
     "iopub.execute_input": "2024-07-02T14:49:02.717455Z",
     "iopub.status.busy": "2024-07-02T14:49:02.716988Z",
     "iopub.status.idle": "2024-07-02T14:49:02.823549Z",
     "shell.execute_reply": "2024-07-02T14:49:02.822564Z"
    },
    "papermill": {
     "duration": 0.12135,
     "end_time": "2024-07-02T14:49:02.825791",
     "exception": false,
     "start_time": "2024-07-02T14:49:02.704441",
     "status": "completed"
    },
    "tags": []
   },
   "outputs": [
    {
     "data": {
      "text/plain": [
       "0"
      ]
     },
     "execution_count": 10,
     "metadata": {},
     "output_type": "execute_result"
    }
   ],
   "source": [
    "movies.duplicated().sum()"
   ]
  },
  {
   "cell_type": "code",
   "execution_count": 11,
   "id": "dd4fbd4b",
   "metadata": {
    "execution": {
     "iopub.execute_input": "2024-07-02T14:49:02.848493Z",
     "iopub.status.busy": "2024-07-02T14:49:02.847642Z",
     "iopub.status.idle": "2024-07-02T14:49:02.854132Z",
     "shell.execute_reply": "2024-07-02T14:49:02.853263Z"
    },
    "papermill": {
     "duration": 0.020059,
     "end_time": "2024-07-02T14:49:02.856162",
     "exception": false,
     "start_time": "2024-07-02T14:49:02.836103",
     "status": "completed"
    },
    "tags": []
   },
   "outputs": [
    {
     "data": {
      "text/plain": [
       "'[{\"id\": 28, \"name\": \"Action\"}, {\"id\": 12, \"name\": \"Adventure\"}, {\"id\": 14, \"name\": \"Fantasy\"}, {\"id\": 878, \"name\": \"Science Fiction\"}]'"
      ]
     },
     "execution_count": 11,
     "metadata": {},
     "output_type": "execute_result"
    }
   ],
   "source": [
    "movies.iloc[0].genres"
   ]
  },
  {
   "cell_type": "code",
   "execution_count": 12,
   "id": "621e4574",
   "metadata": {
    "execution": {
     "iopub.execute_input": "2024-07-02T14:49:02.878823Z",
     "iopub.status.busy": "2024-07-02T14:49:02.878171Z",
     "iopub.status.idle": "2024-07-02T14:49:02.883236Z",
     "shell.execute_reply": "2024-07-02T14:49:02.882271Z"
    },
    "papermill": {
     "duration": 0.018911,
     "end_time": "2024-07-02T14:49:02.885392",
     "exception": false,
     "start_time": "2024-07-02T14:49:02.866481",
     "status": "completed"
    },
    "tags": []
   },
   "outputs": [],
   "source": [
    "import ast\n",
    "def convert(obj):\n",
    "    L = []\n",
    "    for i in ast.literal_eval (obj):\n",
    "       L.append(i['name'])\n",
    "    return L"
   ]
  },
  {
   "cell_type": "code",
   "execution_count": 13,
   "id": "9b744c37",
   "metadata": {
    "execution": {
     "iopub.execute_input": "2024-07-02T14:49:02.908128Z",
     "iopub.status.busy": "2024-07-02T14:49:02.907257Z",
     "iopub.status.idle": "2024-07-02T14:49:03.090404Z",
     "shell.execute_reply": "2024-07-02T14:49:03.089352Z"
    },
    "papermill": {
     "duration": 0.197182,
     "end_time": "2024-07-02T14:49:03.092959",
     "exception": false,
     "start_time": "2024-07-02T14:49:02.895777",
     "status": "completed"
    },
    "tags": []
   },
   "outputs": [],
   "source": [
    "movies['genres']=movies['genres'].apply(convert)"
   ]
  },
  {
   "cell_type": "code",
   "execution_count": 14,
   "id": "5d51c65e",
   "metadata": {
    "execution": {
     "iopub.execute_input": "2024-07-02T14:49:03.115355Z",
     "iopub.status.busy": "2024-07-02T14:49:03.114975Z",
     "iopub.status.idle": "2024-07-02T14:49:03.573019Z",
     "shell.execute_reply": "2024-07-02T14:49:03.571998Z"
    },
    "papermill": {
     "duration": 0.472071,
     "end_time": "2024-07-02T14:49:03.575559",
     "exception": false,
     "start_time": "2024-07-02T14:49:03.103488",
     "status": "completed"
    },
    "tags": []
   },
   "outputs": [],
   "source": [
    "movies['keywords']=movies['keywords'].apply(convert)"
   ]
  },
  {
   "cell_type": "code",
   "execution_count": 15,
   "id": "c2607602",
   "metadata": {
    "execution": {
     "iopub.execute_input": "2024-07-02T14:49:03.598365Z",
     "iopub.status.busy": "2024-07-02T14:49:03.597444Z",
     "iopub.status.idle": "2024-07-02T14:49:03.603004Z",
     "shell.execute_reply": "2024-07-02T14:49:03.602014Z"
    },
    "papermill": {
     "duration": 0.019042,
     "end_time": "2024-07-02T14:49:03.605075",
     "exception": false,
     "start_time": "2024-07-02T14:49:03.586033",
     "status": "completed"
    },
    "tags": []
   },
   "outputs": [],
   "source": [
    "def convert3(obj):\n",
    "    L=[]\n",
    "    counter=0\n",
    "    for i  in ast.literal_eval(obj):\n",
    "        if counter != 3:\n",
    "            L.append(i['name'])\n",
    "            counter+=1\n",
    "        else:\n",
    "            break\n",
    "    return L"
   ]
  },
  {
   "cell_type": "code",
   "execution_count": 16,
   "id": "1bc9e9a0",
   "metadata": {
    "execution": {
     "iopub.execute_input": "2024-07-02T14:49:03.627925Z",
     "iopub.status.busy": "2024-07-02T14:49:03.626980Z",
     "iopub.status.idle": "2024-07-02T14:49:07.274049Z",
     "shell.execute_reply": "2024-07-02T14:49:07.272959Z"
    },
    "papermill": {
     "duration": 3.661179,
     "end_time": "2024-07-02T14:49:07.276646",
     "exception": false,
     "start_time": "2024-07-02T14:49:03.615467",
     "status": "completed"
    },
    "tags": []
   },
   "outputs": [],
   "source": [
    "movies['cast']=movies['cast'].apply(convert3)"
   ]
  },
  {
   "cell_type": "code",
   "execution_count": 17,
   "id": "6e272af0",
   "metadata": {
    "execution": {
     "iopub.execute_input": "2024-07-02T14:49:07.299322Z",
     "iopub.status.busy": "2024-07-02T14:49:07.298949Z",
     "iopub.status.idle": "2024-07-02T14:49:07.304662Z",
     "shell.execute_reply": "2024-07-02T14:49:07.303710Z"
    },
    "papermill": {
     "duration": 0.019568,
     "end_time": "2024-07-02T14:49:07.306951",
     "exception": false,
     "start_time": "2024-07-02T14:49:07.287383",
     "status": "completed"
    },
    "tags": []
   },
   "outputs": [],
   "source": [
    "def convert4(obj):\n",
    "    L = []\n",
    "    for i in ast.literal_eval(obj):\n",
    "        if i['job']=='Director':\n",
    "            L.append(i['name'])\n",
    "            break\n",
    "    return L\n",
    "            "
   ]
  },
  {
   "cell_type": "code",
   "execution_count": 18,
   "id": "e459ee5c",
   "metadata": {
    "execution": {
     "iopub.execute_input": "2024-07-02T14:49:07.329815Z",
     "iopub.status.busy": "2024-07-02T14:49:07.328954Z",
     "iopub.status.idle": "2024-07-02T14:49:11.515021Z",
     "shell.execute_reply": "2024-07-02T14:49:11.514141Z"
    },
    "papermill": {
     "duration": 4.200053,
     "end_time": "2024-07-02T14:49:11.517542",
     "exception": false,
     "start_time": "2024-07-02T14:49:07.317489",
     "status": "completed"
    },
    "tags": []
   },
   "outputs": [],
   "source": [
    "movies['crew']=movies['crew'].apply(convert4)"
   ]
  },
  {
   "cell_type": "code",
   "execution_count": 19,
   "id": "c16ac797",
   "metadata": {
    "execution": {
     "iopub.execute_input": "2024-07-02T14:49:11.540387Z",
     "iopub.status.busy": "2024-07-02T14:49:11.539499Z",
     "iopub.status.idle": "2024-07-02T14:49:11.575820Z",
     "shell.execute_reply": "2024-07-02T14:49:11.574816Z"
    },
    "papermill": {
     "duration": 0.050282,
     "end_time": "2024-07-02T14:49:11.578276",
     "exception": false,
     "start_time": "2024-07-02T14:49:11.527994",
     "status": "completed"
    },
    "tags": []
   },
   "outputs": [],
   "source": [
    "movies['overview']=movies['overview'].apply(lambda x: x.split())"
   ]
  },
  {
   "cell_type": "code",
   "execution_count": 20,
   "id": "45953fd8",
   "metadata": {
    "execution": {
     "iopub.execute_input": "2024-07-02T14:49:11.600987Z",
     "iopub.status.busy": "2024-07-02T14:49:11.600113Z",
     "iopub.status.idle": "2024-07-02T14:49:11.719177Z",
     "shell.execute_reply": "2024-07-02T14:49:11.718091Z"
    },
    "papermill": {
     "duration": 0.13293,
     "end_time": "2024-07-02T14:49:11.721588",
     "exception": false,
     "start_time": "2024-07-02T14:49:11.588658",
     "status": "completed"
    },
    "tags": []
   },
   "outputs": [],
   "source": [
    "movies['genres']=movies['genres'].apply(lambda x:[i.replace(\" \",\"\") for i in x])\n",
    "movies['cast']=movies['cast'].apply(lambda x:[i.replace(\" \",\"\") for i in x])\n",
    "movies['crew']=movies['crew'].apply(lambda x:[i.replace(\" \",\"\") for i in x])\n",
    "movies['keywords']=movies['keywords'].apply(lambda x:[i.replace(\" \",\"\") for i in x])\n"
   ]
  },
  {
   "cell_type": "code",
   "execution_count": 21,
   "id": "9400192c",
   "metadata": {
    "execution": {
     "iopub.execute_input": "2024-07-02T14:49:11.744038Z",
     "iopub.status.busy": "2024-07-02T14:49:11.743683Z",
     "iopub.status.idle": "2024-07-02T14:49:11.812600Z",
     "shell.execute_reply": "2024-07-02T14:49:11.811687Z"
    },
    "papermill": {
     "duration": 0.082849,
     "end_time": "2024-07-02T14:49:11.815028",
     "exception": false,
     "start_time": "2024-07-02T14:49:11.732179",
     "status": "completed"
    },
    "tags": []
   },
   "outputs": [],
   "source": [
    "movies['tags']= movies['overview']+movies['genres']+movies['cast']+movies['keywords']+movies['crew']"
   ]
  },
  {
   "cell_type": "code",
   "execution_count": 22,
   "id": "8999bc89",
   "metadata": {
    "execution": {
     "iopub.execute_input": "2024-07-02T14:49:11.837828Z",
     "iopub.status.busy": "2024-07-02T14:49:11.836951Z",
     "iopub.status.idle": "2024-07-02T14:49:11.843063Z",
     "shell.execute_reply": "2024-07-02T14:49:11.841958Z"
    },
    "papermill": {
     "duration": 0.019691,
     "end_time": "2024-07-02T14:49:11.845146",
     "exception": false,
     "start_time": "2024-07-02T14:49:11.825455",
     "status": "completed"
    },
    "tags": []
   },
   "outputs": [],
   "source": [
    "df = movies[['movie_id','title','tags']]"
   ]
  },
  {
   "cell_type": "markdown",
   "id": "5fb6fcec",
   "metadata": {
    "papermill": {
     "duration": 0.01006,
     "end_time": "2024-07-02T14:49:11.865636",
     "exception": false,
     "start_time": "2024-07-02T14:49:11.855576",
     "status": "completed"
    },
    "tags": []
   },
   "source": [
    "converting list back to string"
   ]
  },
  {
   "cell_type": "code",
   "execution_count": 23,
   "id": "b647477e",
   "metadata": {
    "execution": {
     "iopub.execute_input": "2024-07-02T14:49:11.889143Z",
     "iopub.status.busy": "2024-07-02T14:49:11.888260Z",
     "iopub.status.idle": "2024-07-02T14:49:11.906480Z",
     "shell.execute_reply": "2024-07-02T14:49:11.905562Z"
    },
    "papermill": {
     "duration": 0.032659,
     "end_time": "2024-07-02T14:49:11.908658",
     "exception": false,
     "start_time": "2024-07-02T14:49:11.875999",
     "status": "completed"
    },
    "tags": []
   },
   "outputs": [
    {
     "name": "stderr",
     "output_type": "stream",
     "text": [
      "/tmp/ipykernel_18/4267108141.py:1: SettingWithCopyWarning: \n",
      "A value is trying to be set on a copy of a slice from a DataFrame.\n",
      "Try using .loc[row_indexer,col_indexer] = value instead\n",
      "\n",
      "See the caveats in the documentation: https://pandas.pydata.org/pandas-docs/stable/user_guide/indexing.html#returning-a-view-versus-a-copy\n",
      "  df['tags'] = df['tags'].apply(lambda x:\" \".join(x))\n"
     ]
    }
   ],
   "source": [
    "df['tags'] = df['tags'].apply(lambda x:\" \".join(x))"
   ]
  },
  {
   "cell_type": "code",
   "execution_count": 24,
   "id": "500ab7ca",
   "metadata": {
    "execution": {
     "iopub.execute_input": "2024-07-02T14:49:11.931064Z",
     "iopub.status.busy": "2024-07-02T14:49:11.930704Z",
     "iopub.status.idle": "2024-07-02T14:49:11.948248Z",
     "shell.execute_reply": "2024-07-02T14:49:11.947259Z"
    },
    "papermill": {
     "duration": 0.031204,
     "end_time": "2024-07-02T14:49:11.950389",
     "exception": false,
     "start_time": "2024-07-02T14:49:11.919185",
     "status": "completed"
    },
    "tags": []
   },
   "outputs": [
    {
     "name": "stderr",
     "output_type": "stream",
     "text": [
      "/tmp/ipykernel_18/841579467.py:1: SettingWithCopyWarning: \n",
      "A value is trying to be set on a copy of a slice from a DataFrame.\n",
      "Try using .loc[row_indexer,col_indexer] = value instead\n",
      "\n",
      "See the caveats in the documentation: https://pandas.pydata.org/pandas-docs/stable/user_guide/indexing.html#returning-a-view-versus-a-copy\n",
      "  df['tags'] = df['tags'].apply(lambda x:x.lower())\n"
     ]
    }
   ],
   "source": [
    "df['tags'] = df['tags'].apply(lambda x:x.lower())"
   ]
  },
  {
   "cell_type": "code",
   "execution_count": 25,
   "id": "7c60c278",
   "metadata": {
    "execution": {
     "iopub.execute_input": "2024-07-02T14:49:11.973552Z",
     "iopub.status.busy": "2024-07-02T14:49:11.972691Z",
     "iopub.status.idle": "2024-07-02T14:49:11.982711Z",
     "shell.execute_reply": "2024-07-02T14:49:11.981736Z"
    },
    "papermill": {
     "duration": 0.023462,
     "end_time": "2024-07-02T14:49:11.984809",
     "exception": false,
     "start_time": "2024-07-02T14:49:11.961347",
     "status": "completed"
    },
    "tags": []
   },
   "outputs": [
    {
     "data": {
      "text/html": [
       "<div>\n",
       "<style scoped>\n",
       "    .dataframe tbody tr th:only-of-type {\n",
       "        vertical-align: middle;\n",
       "    }\n",
       "\n",
       "    .dataframe tbody tr th {\n",
       "        vertical-align: top;\n",
       "    }\n",
       "\n",
       "    .dataframe thead th {\n",
       "        text-align: right;\n",
       "    }\n",
       "</style>\n",
       "<table border=\"1\" class=\"dataframe\">\n",
       "  <thead>\n",
       "    <tr style=\"text-align: right;\">\n",
       "      <th></th>\n",
       "      <th>movie_id</th>\n",
       "      <th>title</th>\n",
       "      <th>tags</th>\n",
       "    </tr>\n",
       "  </thead>\n",
       "  <tbody>\n",
       "    <tr>\n",
       "      <th>0</th>\n",
       "      <td>19995</td>\n",
       "      <td>Avatar</td>\n",
       "      <td>in the 22nd century, a paraplegic marine is di...</td>\n",
       "    </tr>\n",
       "    <tr>\n",
       "      <th>1</th>\n",
       "      <td>285</td>\n",
       "      <td>Pirates of the Caribbean: At World's End</td>\n",
       "      <td>captain barbossa, long believed to be dead, ha...</td>\n",
       "    </tr>\n",
       "    <tr>\n",
       "      <th>2</th>\n",
       "      <td>206647</td>\n",
       "      <td>Spectre</td>\n",
       "      <td>a cryptic message from bond’s past sends him o...</td>\n",
       "    </tr>\n",
       "    <tr>\n",
       "      <th>3</th>\n",
       "      <td>49026</td>\n",
       "      <td>The Dark Knight Rises</td>\n",
       "      <td>following the death of district attorney harve...</td>\n",
       "    </tr>\n",
       "    <tr>\n",
       "      <th>4</th>\n",
       "      <td>49529</td>\n",
       "      <td>John Carter</td>\n",
       "      <td>john carter is a war-weary, former military ca...</td>\n",
       "    </tr>\n",
       "  </tbody>\n",
       "</table>\n",
       "</div>"
      ],
      "text/plain": [
       "   movie_id                                     title  \\\n",
       "0     19995                                    Avatar   \n",
       "1       285  Pirates of the Caribbean: At World's End   \n",
       "2    206647                                   Spectre   \n",
       "3     49026                     The Dark Knight Rises   \n",
       "4     49529                               John Carter   \n",
       "\n",
       "                                                tags  \n",
       "0  in the 22nd century, a paraplegic marine is di...  \n",
       "1  captain barbossa, long believed to be dead, ha...  \n",
       "2  a cryptic message from bond’s past sends him o...  \n",
       "3  following the death of district attorney harve...  \n",
       "4  john carter is a war-weary, former military ca...  "
      ]
     },
     "execution_count": 25,
     "metadata": {},
     "output_type": "execute_result"
    }
   ],
   "source": [
    "df.head()"
   ]
  },
  {
   "cell_type": "markdown",
   "id": "280d2349",
   "metadata": {
    "papermill": {
     "duration": 0.010376,
     "end_time": "2024-07-02T14:49:12.005906",
     "exception": false,
     "start_time": "2024-07-02T14:49:11.995530",
     "status": "completed"
    },
    "tags": []
   },
   "source": [
    "now we wil perform word vectorizatoin. here concatenate all the tags and take out limited number of words from them. then we analyze for each movie how mant times those words as repeating. then if we imagine it on a plot of vector with x and y axis, we can slect plot the points of those vectors(suppose we ploting only 2 words fro example word 1 repeated 5 times and word 2 repeated 3 times. s the points will be (5,3)). now we plot all the points i nthe vector and when ever someone searches for a movies, we recommend them the movie which is closest to the movie being searched in respect to the points we ploted.also we remove unnecessary words before vectorization.we will be using class cuntvectorization from sckit learn library.\n"
   ]
  },
  {
   "cell_type": "code",
   "execution_count": 26,
   "id": "5457cc11",
   "metadata": {
    "execution": {
     "iopub.execute_input": "2024-07-02T14:49:12.028663Z",
     "iopub.status.busy": "2024-07-02T14:49:12.028305Z",
     "iopub.status.idle": "2024-07-02T14:49:13.080068Z",
     "shell.execute_reply": "2024-07-02T14:49:13.079027Z"
    },
    "papermill": {
     "duration": 1.066198,
     "end_time": "2024-07-02T14:49:13.082675",
     "exception": false,
     "start_time": "2024-07-02T14:49:12.016477",
     "status": "completed"
    },
    "tags": []
   },
   "outputs": [],
   "source": [
    "from sklearn.feature_extraction.text import CountVectorizer\n",
    "cv = CountVectorizer(max_features =5000,stop_words='english')"
   ]
  },
  {
   "cell_type": "markdown",
   "id": "bb139bfc",
   "metadata": {
    "papermill": {
     "duration": 0.010817,
     "end_time": "2024-07-02T14:49:13.104701",
     "exception": false,
     "start_time": "2024-07-02T14:49:13.093884",
     "status": "completed"
    },
    "tags": []
   },
   "source": [
    "we use porterStemmer for removing similar words like acotr,actors."
   ]
  },
  {
   "cell_type": "code",
   "execution_count": 27,
   "id": "a79bbd38",
   "metadata": {
    "execution": {
     "iopub.execute_input": "2024-07-02T14:49:13.128824Z",
     "iopub.status.busy": "2024-07-02T14:49:13.127925Z",
     "iopub.status.idle": "2024-07-02T14:49:13.896146Z",
     "shell.execute_reply": "2024-07-02T14:49:13.895187Z"
    },
    "papermill": {
     "duration": 0.782915,
     "end_time": "2024-07-02T14:49:13.898627",
     "exception": false,
     "start_time": "2024-07-02T14:49:13.115712",
     "status": "completed"
    },
    "tags": []
   },
   "outputs": [],
   "source": [
    "import nltk\n",
    "from nltk.stem.porter import PorterStemmer\n",
    "ps=PorterStemmer()"
   ]
  },
  {
   "cell_type": "code",
   "execution_count": 28,
   "id": "42dacd7e",
   "metadata": {
    "execution": {
     "iopub.execute_input": "2024-07-02T14:49:13.922330Z",
     "iopub.status.busy": "2024-07-02T14:49:13.921962Z",
     "iopub.status.idle": "2024-07-02T14:49:13.927069Z",
     "shell.execute_reply": "2024-07-02T14:49:13.926080Z"
    },
    "papermill": {
     "duration": 0.019243,
     "end_time": "2024-07-02T14:49:13.929114",
     "exception": false,
     "start_time": "2024-07-02T14:49:13.909871",
     "status": "completed"
    },
    "tags": []
   },
   "outputs": [],
   "source": [
    "def stem(text):\n",
    "    y = []\n",
    "    for i in text.split():\n",
    "       y.append(ps.stem(i))\n",
    "    return \" \".join(y)"
   ]
  },
  {
   "cell_type": "code",
   "execution_count": 29,
   "id": "dca5de2c",
   "metadata": {
    "execution": {
     "iopub.execute_input": "2024-07-02T14:49:14.008992Z",
     "iopub.status.busy": "2024-07-02T14:49:14.007986Z",
     "iopub.status.idle": "2024-07-02T14:49:21.166894Z",
     "shell.execute_reply": "2024-07-02T14:49:21.165703Z"
    },
    "papermill": {
     "duration": 7.173146,
     "end_time": "2024-07-02T14:49:21.169245",
     "exception": false,
     "start_time": "2024-07-02T14:49:13.996099",
     "status": "completed"
    },
    "tags": []
   },
   "outputs": [
    {
     "name": "stderr",
     "output_type": "stream",
     "text": [
      "/tmp/ipykernel_18/4230616273.py:1: SettingWithCopyWarning: \n",
      "A value is trying to be set on a copy of a slice from a DataFrame.\n",
      "Try using .loc[row_indexer,col_indexer] = value instead\n",
      "\n",
      "See the caveats in the documentation: https://pandas.pydata.org/pandas-docs/stable/user_guide/indexing.html#returning-a-view-versus-a-copy\n",
      "  df['tags']=df['tags'].apply(stem)\n"
     ]
    }
   ],
   "source": [
    "df['tags']=df['tags'].apply(stem)"
   ]
  },
  {
   "cell_type": "markdown",
   "id": "281f5f90",
   "metadata": {
    "papermill": {
     "duration": 0.01087,
     "end_time": "2024-07-02T14:49:21.191384",
     "exception": false,
     "start_time": "2024-07-02T14:49:21.180514",
     "status": "completed"
    },
    "tags": []
   },
   "source": [
    "now we take cosine similarity\n"
   ]
  },
  {
   "cell_type": "code",
   "execution_count": 30,
   "id": "5e9200f7",
   "metadata": {
    "execution": {
     "iopub.execute_input": "2024-07-02T14:49:21.215455Z",
     "iopub.status.busy": "2024-07-02T14:49:21.214932Z",
     "iopub.status.idle": "2024-07-02T14:49:21.739560Z",
     "shell.execute_reply": "2024-07-02T14:49:21.738548Z"
    },
    "papermill": {
     "duration": 0.539254,
     "end_time": "2024-07-02T14:49:21.741879",
     "exception": false,
     "start_time": "2024-07-02T14:49:21.202625",
     "status": "completed"
    },
    "tags": []
   },
   "outputs": [
    {
     "data": {
      "text/plain": [
       "array([[0, 0, 0, ..., 0, 0, 0],\n",
       "       [0, 0, 0, ..., 0, 0, 0],\n",
       "       [0, 0, 0, ..., 0, 0, 0],\n",
       "       ...,\n",
       "       [0, 0, 0, ..., 0, 0, 0],\n",
       "       [0, 0, 0, ..., 0, 0, 0],\n",
       "       [0, 0, 0, ..., 0, 0, 0]])"
      ]
     },
     "execution_count": 30,
     "metadata": {},
     "output_type": "execute_result"
    }
   ],
   "source": [
    "vectors=cv.fit_transform(df['tags']).toarray()\n",
    "vectors"
   ]
  },
  {
   "cell_type": "code",
   "execution_count": 31,
   "id": "f44a2e3f",
   "metadata": {
    "execution": {
     "iopub.execute_input": "2024-07-02T14:49:21.766290Z",
     "iopub.status.busy": "2024-07-02T14:49:21.765317Z",
     "iopub.status.idle": "2024-07-02T14:49:21.775694Z",
     "shell.execute_reply": "2024-07-02T14:49:21.774697Z"
    },
    "papermill": {
     "duration": 0.02487,
     "end_time": "2024-07-02T14:49:21.777854",
     "exception": false,
     "start_time": "2024-07-02T14:49:21.752984",
     "status": "completed"
    },
    "tags": []
   },
   "outputs": [
    {
     "data": {
      "text/plain": [
       "array(['000', '007', '10', ..., 'zone', 'zoo', 'zooeydeschanel'],\n",
       "      dtype=object)"
      ]
     },
     "execution_count": 31,
     "metadata": {},
     "output_type": "execute_result"
    }
   ],
   "source": [
    "cv.get_feature_names_out()"
   ]
  },
  {
   "cell_type": "code",
   "execution_count": 32,
   "id": "1fbf30bc",
   "metadata": {
    "execution": {
     "iopub.execute_input": "2024-07-02T14:49:21.803399Z",
     "iopub.status.busy": "2024-07-02T14:49:21.802629Z",
     "iopub.status.idle": "2024-07-02T14:49:23.826308Z",
     "shell.execute_reply": "2024-07-02T14:49:23.825079Z"
    },
    "papermill": {
     "duration": 2.04053,
     "end_time": "2024-07-02T14:49:23.829575",
     "exception": false,
     "start_time": "2024-07-02T14:49:21.789045",
     "status": "completed"
    },
    "tags": []
   },
   "outputs": [],
   "source": [
    "from sklearn.metrics.pairwise import cosine_similarity\n",
    "similarity=cosine_similarity(vectors)\n"
   ]
  },
  {
   "cell_type": "markdown",
   "id": "a9e5dae7",
   "metadata": {
    "papermill": {
     "duration": 0.010916,
     "end_time": "2024-07-02T14:49:23.859721",
     "exception": false,
     "start_time": "2024-07-02T14:49:23.848805",
     "status": "completed"
    },
    "tags": []
   },
   "source": [
    "now once we find cosine similarty. supose our 1st word is avatar,its index is 0, then we check its distance with all other movie.and fetch top 5 closest.\n",
    "\n",
    "Example Vocabulary:\n",
    "\n",
    "Unique Word\n",
    "Avatar\n",
    "space\n",
    "adventure\n",
    "film\n",
    "sci-fi\n",
    "Example Vectors:\n",
    "\n",
    "Movie\tAvatar\tspace\tadventure\tfilm\tsci-fi\t...\n",
    "Avatar\t1\t1\t1\t0\t1\t...\n",
    "Star Wars\t0\t1\t0\t1\t1\t...\n",
    "Dune\t0\t1\t0\t1\t1\n",
    "Visual Representation of the Process\n",
    "Movie Vectors:\n",
    "\n",
    "Movie\tVector Representation\n",
    "Avatar\t[1, 0, 0, 0, 0, ...]\n",
    "Star Wars\t[0, 1, 0, 1, 1, ...]\n",
    "Dune\t[0, 1, 0, 1, 1, ...]\n",
    "Search Vector for “Avatar”:\n",
    "\n",
    "Avatar\tspace\tadventure\tfilm\tsci-fi\t...\n",
    "1\t0\t0\t0\t0\t...\n",
    "Cosine Similarity Computation:\n",
    "\n",
    "Compare “Avatar” with each movie.\n",
    "Calculate similarity scores.\n",
    "Ranking and Recommendation:\n",
    "\n",
    "Movie\tSimilarity Score\n",
    "Avatar\t1.0\n",
    "Star Wars\t0.4\n",
    "Dune\t0.3\n",
    "Sort movies by similarity scores to “Avatar.”\n",
    "\n",
    "\n",
    "\n",
    "\n",
    "\n",
    "\n",
    "\n",
    "\n",
    "\n",
    "\n",
    "\n",
    "\n",
    "\n"
   ]
  },
  {
   "cell_type": "code",
   "execution_count": 33,
   "id": "e52f46b1",
   "metadata": {
    "execution": {
     "iopub.execute_input": "2024-07-02T14:49:23.884190Z",
     "iopub.status.busy": "2024-07-02T14:49:23.883282Z",
     "iopub.status.idle": "2024-07-02T14:49:23.889488Z",
     "shell.execute_reply": "2024-07-02T14:49:23.888296Z"
    },
    "papermill": {
     "duration": 0.020891,
     "end_time": "2024-07-02T14:49:23.891707",
     "exception": false,
     "start_time": "2024-07-02T14:49:23.870816",
     "status": "completed"
    },
    "tags": []
   },
   "outputs": [],
   "source": [
    "def recommend(movie):\n",
    "    movie_index =df[df['title']==movie].index[0]\n",
    "    distances = similarity[movie_index]\n",
    "    movies_list = sorted(list(enumerate(distances)),reverse=True,key=lambda x:x[1])[1:6]\n",
    "    \n",
    "    for i in movies_list:\n",
    "        print(df.iloc[i[0]].title)\n",
    "    "
   ]
  },
  {
   "cell_type": "code",
   "execution_count": 34,
   "id": "a2658900",
   "metadata": {
    "execution": {
     "iopub.execute_input": "2024-07-02T14:49:23.916377Z",
     "iopub.status.busy": "2024-07-02T14:49:23.915654Z",
     "iopub.status.idle": "2024-07-02T14:49:23.926550Z",
     "shell.execute_reply": "2024-07-02T14:49:23.925499Z"
    },
    "papermill": {
     "duration": 0.025462,
     "end_time": "2024-07-02T14:49:23.928581",
     "exception": false,
     "start_time": "2024-07-02T14:49:23.903119",
     "status": "completed"
    },
    "tags": []
   },
   "outputs": [
    {
     "name": "stdout",
     "output_type": "stream",
     "text": [
      "Aliens vs Predator: Requiem\n",
      "Aliens\n",
      "Falcon Rising\n",
      "Independence Day\n",
      "Titan A.E.\n"
     ]
    }
   ],
   "source": [
    "recommend('Avatar')"
   ]
  },
  {
   "cell_type": "code",
   "execution_count": null,
   "id": "d19fa9c1",
   "metadata": {
    "papermill": {
     "duration": 0.011003,
     "end_time": "2024-07-02T14:49:23.950857",
     "exception": false,
     "start_time": "2024-07-02T14:49:23.939854",
     "status": "completed"
    },
    "tags": []
   },
   "outputs": [],
   "source": []
  }
 ],
 "metadata": {
  "kaggle": {
   "accelerator": "none",
   "dataSources": [
    {
     "datasetId": 5319763,
     "sourceId": 8839555,
     "sourceType": "datasetVersion"
    }
   ],
   "dockerImageVersionId": 30732,
   "isGpuEnabled": false,
   "isInternetEnabled": false,
   "language": "python",
   "sourceType": "notebook"
  },
  "kernelspec": {
   "display_name": "Python 3",
   "language": "python",
   "name": "python3"
  },
  "language_info": {
   "codemirror_mode": {
    "name": "ipython",
    "version": 3
   },
   "file_extension": ".py",
   "mimetype": "text/x-python",
   "name": "python",
   "nbconvert_exporter": "python",
   "pygments_lexer": "ipython3",
   "version": "3.10.13"
  },
  "papermill": {
   "default_parameters": {},
   "duration": 26.744719,
   "end_time": "2024-07-02T14:49:24.682870",
   "environment_variables": {},
   "exception": null,
   "input_path": "__notebook__.ipynb",
   "output_path": "__notebook__.ipynb",
   "parameters": {},
   "start_time": "2024-07-02T14:48:57.938151",
   "version": "2.5.0"
  }
 },
 "nbformat": 4,
 "nbformat_minor": 5
}
